{
 "cells": [
  {
   "cell_type": "code",
   "execution_count": 146,
   "id": "809524b3",
   "metadata": {},
   "outputs": [],
   "source": [
    "from waterworld.waterworld import env as custom_waterworld\n",
    "from potential_field.potential_field_policy import PotentialFieldPolicy\n",
    "from test_policy import get_configs\n",
    "from utils import get_frames\n",
    "\n",
    "from pettingzoo.utils import average_total_reward\n",
    "\n",
    "from multiprocessing import Pool, cpu_count\n",
    "\n",
    "import tqdm\n",
    "import numpy as np\n",
    "from matplotlib import pyplot as plt\n",
    "import pandas as pd\n",
    "import json\n",
    "import glob\n",
    "import os\n",
    "\n",
    "from PIL import Image, ImageSequence\n",
    "from imageio import imread"
   ]
  },
  {
   "cell_type": "markdown",
   "id": "94538ff7",
   "metadata": {},
   "source": [
    "# Test results"
   ]
  },
  {
   "cell_type": "code",
   "execution_count": 2,
   "id": "5c19da5c",
   "metadata": {},
   "outputs": [],
   "source": [
    "test_main = []\n",
    "for file in glob.glob(\"test_results/potential_field/test_main/*.json\"):\n",
    "    with open(file) as f:\n",
    "        test_main.append(json.load(f))\n",
    "test_main = pd.DataFrame([\n",
    "    {\n",
    "        \"n_coop\": config[\"env_config\"][\"n_coop\"], \n",
    "        \"n_sensors\":config[\"env_config\"][\"n_sensors\"],\n",
    "        \"angle\": (\n",
    "            (\"rand\" if config[\"potential_field_config\"][\"randomize_angle\"] else \"na\") \n",
    "            if \"randomize_angle\" in config[\"potential_field_config\"] \n",
    "            else config[\"potential_field_config\"][\"spin_angle\"]),\n",
    "        \"rewards\": config[\"rewards\"]\n",
    "    }\n",
    "    for config in test_main])\n",
    "test_main[\"rewards_mean\"] = test_main.rewards.apply(lambda x: np.mean(x))\n",
    "test_main[\"rewards_min\"] = test_main.rewards.apply(lambda x: np.min(x))\n",
    "test_main[\"rewards_max\"] = test_main.rewards.apply(lambda x: np.max(x))\n",
    "test_main[\"rewards_std\"] = test_main.rewards.apply(lambda x: np.std(x))\n",
    "test_main = test_main.explode('rewards')\n",
    "test_main[\"rewards\"] = test_main[\"rewards\"].astype(float)"
   ]
  },
  {
   "cell_type": "markdown",
   "id": "92ccb818",
   "metadata": {},
   "source": [
    "## by sensor"
   ]
  },
  {
   "cell_type": "code",
   "execution_count": 72,
   "id": "b8cc1d27",
   "metadata": {},
   "outputs": [
    {
     "data": {
      "image/png": "[encoded data removed]",
      "text/plain": [
       "<Figure size 432x288 with 1 Axes>"
      ]
     },
     "metadata": {
      "needs_background": "light"
     },
     "output_type": "display_data"
    }
   ],
   "source": [
    "ax = test_main[(test_main[\"angle\"] == \"na\") & (test_main[\"n_coop\"] == 1)].boxplot(\"rewards\", by=\"n_sensors\")\n",
    "ax.set_title(\"\")\n",
    "ax.set_ylabel(\"rewards\")\n",
    "ax.set_ylim((-75, 625))\n",
    "fig = ax.get_figure()\n",
    "plt.gcf().subplots_adjust(left=0.12)\n",
    "fig.suptitle(\"no coop\")\n",
    "plt.show()\n",
    "fig.savefig(\"test_results/graphs/potential_field/by_sensor/no_coop.png\")"
   ]
  },
  {
   "cell_type": "code",
   "execution_count": 116,
   "id": "eb7ba37c",
   "metadata": {},
   "outputs": [
    {
     "data": {
      "text/html": [
       "<div>\n",
       "<style scoped>\n",
       "    .dataframe tbody tr th:only-of-type {\n",
       "        vertical-align: middle;\n",
       "    }\n",
       "\n",
       "    .dataframe tbody tr th {\n",
       "        vertical-align: top;\n",
       "    }\n",
       "\n",
       "    .dataframe thead th {\n",
       "        text-align: right;\n",
       "    }\n",
       "</style>\n",
       "<table border=\"1\" class=\"dataframe\">\n",
       "  <thead>\n",
       "    <tr style=\"text-align: right;\">\n",
       "      <th></th>\n",
       "      <th>n_coop</th>\n",
       "      <th>rewards</th>\n",
       "      <th>rewards_mean</th>\n",
       "      <th>rewards_min</th>\n",
       "      <th>rewards_max</th>\n",
       "      <th>rewards_std</th>\n",
       "    </tr>\n",
       "    <tr>\n",
       "      <th>n_sensors</th>\n",
       "      <th></th>\n",
       "      <th></th>\n",
       "      <th></th>\n",
       "      <th></th>\n",
       "      <th></th>\n",
       "      <th></th>\n",
       "    </tr>\n",
       "  </thead>\n",
       "  <tbody>\n",
       "    <tr>\n",
       "      <th>1</th>\n",
       "      <td>2</td>\n",
       "      <td>14.984861</td>\n",
       "      <td>14.984861</td>\n",
       "      <td>-18.947698</td>\n",
       "      <td>122.285861</td>\n",
       "      <td>31.630822</td>\n",
       "    </tr>\n",
       "    <tr>\n",
       "      <th>2</th>\n",
       "      <td>2</td>\n",
       "      <td>1.703610</td>\n",
       "      <td>1.703610</td>\n",
       "      <td>-35.525667</td>\n",
       "      <td>118.212838</td>\n",
       "      <td>33.208086</td>\n",
       "    </tr>\n",
       "    <tr>\n",
       "      <th>5</th>\n",
       "      <td>2</td>\n",
       "      <td>-21.884562</td>\n",
       "      <td>-21.884562</td>\n",
       "      <td>-57.382381</td>\n",
       "      <td>61.689736</td>\n",
       "      <td>24.635373</td>\n",
       "    </tr>\n",
       "    <tr>\n",
       "      <th>20</th>\n",
       "      <td>2</td>\n",
       "      <td>2.260042</td>\n",
       "      <td>2.260042</td>\n",
       "      <td>-41.961629</td>\n",
       "      <td>89.451961</td>\n",
       "      <td>28.028528</td>\n",
       "    </tr>\n",
       "    <tr>\n",
       "      <th>30</th>\n",
       "      <td>2</td>\n",
       "      <td>0.732727</td>\n",
       "      <td>0.732727</td>\n",
       "      <td>-41.648819</td>\n",
       "      <td>96.477402</td>\n",
       "      <td>31.198057</td>\n",
       "    </tr>\n",
       "  </tbody>\n",
       "</table>\n",
       "</div>"
      ],
      "text/plain": [
       "           n_coop    rewards  rewards_mean  rewards_min  rewards_max  \\\n",
       "n_sensors                                                              \n",
       "1               2  14.984861     14.984861   -18.947698   122.285861   \n",
       "2               2   1.703610      1.703610   -35.525667   118.212838   \n",
       "5               2 -21.884562    -21.884562   -57.382381    61.689736   \n",
       "20              2   2.260042      2.260042   -41.961629    89.451961   \n",
       "30              2   0.732727      0.732727   -41.648819    96.477402   \n",
       "\n",
       "           rewards_std  \n",
       "n_sensors               \n",
       "1            31.630822  \n",
       "2            33.208086  \n",
       "5            24.635373  \n",
       "20           28.028528  \n",
       "30           31.198057  "
      ]
     },
     "execution_count": 116,
     "metadata": {},
     "output_type": "execute_result"
    }
   ],
   "source": [
    "test_main[(test_main[\"angle\"] == \"na\") & (test_main[\"n_coop\"] == 2)].groupby(\"n_sensors\").mean()"
   ]
  },
  {
   "cell_type": "code",
   "execution_count": 115,
   "id": "0bfc0496",
   "metadata": {},
   "outputs": [
    {
     "data": {
      "text/html": [
       "<div>\n",
       "<style scoped>\n",
       "    .dataframe tbody tr th:only-of-type {\n",
       "        vertical-align: middle;\n",
       "    }\n",
       "\n",
       "    .dataframe tbody tr th {\n",
       "        vertical-align: top;\n",
       "    }\n",
       "\n",
       "    .dataframe thead th {\n",
       "        text-align: right;\n",
       "    }\n",
       "</style>\n",
       "<table border=\"1\" class=\"dataframe\">\n",
       "  <thead>\n",
       "    <tr style=\"text-align: right;\">\n",
       "      <th></th>\n",
       "      <th>n_coop</th>\n",
       "      <th>angle</th>\n",
       "      <th>rewards</th>\n",
       "      <th>rewards_mean</th>\n",
       "      <th>rewards_min</th>\n",
       "      <th>rewards_max</th>\n",
       "      <th>rewards_std</th>\n",
       "    </tr>\n",
       "    <tr>\n",
       "      <th>n_sensors</th>\n",
       "      <th></th>\n",
       "      <th></th>\n",
       "      <th></th>\n",
       "      <th></th>\n",
       "      <th></th>\n",
       "      <th></th>\n",
       "      <th></th>\n",
       "    </tr>\n",
       "  </thead>\n",
       "  <tbody>\n",
       "    <tr>\n",
       "      <th>1</th>\n",
       "      <td>100</td>\n",
       "      <td>100</td>\n",
       "      <td>100</td>\n",
       "      <td>100</td>\n",
       "      <td>100</td>\n",
       "      <td>100</td>\n",
       "      <td>100</td>\n",
       "    </tr>\n",
       "    <tr>\n",
       "      <th>2</th>\n",
       "      <td>100</td>\n",
       "      <td>100</td>\n",
       "      <td>100</td>\n",
       "      <td>100</td>\n",
       "      <td>100</td>\n",
       "      <td>100</td>\n",
       "      <td>100</td>\n",
       "    </tr>\n",
       "    <tr>\n",
       "      <th>5</th>\n",
       "      <td>100</td>\n",
       "      <td>100</td>\n",
       "      <td>100</td>\n",
       "      <td>100</td>\n",
       "      <td>100</td>\n",
       "      <td>100</td>\n",
       "      <td>100</td>\n",
       "    </tr>\n",
       "    <tr>\n",
       "      <th>20</th>\n",
       "      <td>100</td>\n",
       "      <td>100</td>\n",
       "      <td>100</td>\n",
       "      <td>100</td>\n",
       "      <td>100</td>\n",
       "      <td>100</td>\n",
       "      <td>100</td>\n",
       "    </tr>\n",
       "    <tr>\n",
       "      <th>30</th>\n",
       "      <td>100</td>\n",
       "      <td>100</td>\n",
       "      <td>100</td>\n",
       "      <td>100</td>\n",
       "      <td>100</td>\n",
       "      <td>100</td>\n",
       "      <td>100</td>\n",
       "    </tr>\n",
       "  </tbody>\n",
       "</table>\n",
       "</div>"
      ],
      "text/plain": [
       "           n_coop  angle  rewards  rewards_mean  rewards_min  rewards_max  \\\n",
       "n_sensors                                                                   \n",
       "1             100    100      100           100          100          100   \n",
       "2             100    100      100           100          100          100   \n",
       "5             100    100      100           100          100          100   \n",
       "20            100    100      100           100          100          100   \n",
       "30            100    100      100           100          100          100   \n",
       "\n",
       "           rewards_std  \n",
       "n_sensors               \n",
       "1                  100  \n",
       "2                  100  \n",
       "5                  100  \n",
       "20                 100  \n",
       "30                 100  "
      ]
     },
     "execution_count": 115,
     "metadata": {},
     "output_type": "execute_result"
    }
   ],
   "source": [
    "test_main[(test_main[\"angle\"] == \"na\") & (test_main[\"n_coop\"] == 1)].groupby(\"n_sensors\").count()"
   ]
  },
  {
   "cell_type": "code",
   "execution_count": 105,
   "id": "f093b5de",
   "metadata": {},
   "outputs": [
    {
     "data": {
      "image/png": "[encoded data removed]",
      "text/plain": [
       "<Figure size 432x288 with 1 Axes>"
      ]
     },
     "metadata": {
      "needs_background": "light"
     },
     "output_type": "display_data"
    }
   ],
   "source": [
    "ax = test_main[(test_main[\"angle\"] == \"na\") & (test_main[\"n_coop\"] == 2)].boxplot(\"rewards\", by=\"n_sensors\")\n",
    "ax.set_title(\"\")\n",
    "ax.set_ylabel(\"rewards\")\n",
    "plt.gcf().subplots_adjust(left=0.12)\n",
    "# ax.set_ylabel(\"\")\n",
    "# ax.yaxis.set_ticklabels([]) \n",
    "ax.set_ylim((-75, 625))\n",
    "fig = ax.get_figure()\n",
    "fig.suptitle(\"coop required\")\n",
    "plt.show()\n",
    "fig.savefig(\"test_results/graphs/potential_field/by_sensor/coop_ticks.png\")"
   ]
  },
  {
   "cell_type": "markdown",
   "id": "d145a93d",
   "metadata": {},
   "source": [
    "## by angle"
   ]
  },
  {
   "cell_type": "code",
   "execution_count": 80,
   "id": "e2183567",
   "metadata": {},
   "outputs": [
    {
     "data": {
      "image/png": "[encoded data removed]",
      "text/plain": [
       "<Figure size 432x288 with 1 Axes>"
      ]
     },
     "metadata": {
      "needs_background": "light"
     },
     "output_type": "display_data"
    }
   ],
   "source": [
    "ax = test_main[(test_main[\"n_sensors\"] == 1) & (test_main[\"n_coop\"] == 1) & (test_main[\"angle\"] != 0)].boxplot(\"rewards\", by=\"angle\", positions=[2, 3, 4, 0, 1])\n",
    "ax.set_title(\"\")\n",
    "ax.set_ylabel(\"rewards\")\n",
    "ax.set_ylim((-1300, 700))\n",
    "fig = ax.get_figure()\n",
    "fig.suptitle(\"no coop, 1 sensor\")\n",
    "plt.gcf().subplots_adjust(left=0.14)\n",
    "plt.show()\n",
    "fig.savefig(\"test_results/graphs/potential_field/by_angle/1_sensor/no_coop.png\")"
   ]
  },
  {
   "cell_type": "code",
   "execution_count": 106,
   "id": "2fdc8b7f",
   "metadata": {},
   "outputs": [
    {
     "data": {
      "image/png": "[encoded data removed]",
      "text/plain": [
       "<Figure size 432x288 with 1 Axes>"
      ]
     },
     "metadata": {
      "needs_background": "light"
     },
     "output_type": "display_data"
    }
   ],
   "source": [
    "ax = test_main[(test_main[\"n_sensors\"] == 1) & (test_main[\"n_coop\"] == 2) & (test_main[\"angle\"] != 0)].boxplot(\"rewards\", by=\"angle\", positions=[2, 3, 4, 0, 1])\n",
    "ax.set_title(\"\")\n",
    "ax.set_ylabel(\"rewards\")\n",
    "plt.gcf().subplots_adjust(left=0.12)\n",
    "# ax.set_ylabel(\"\")\n",
    "# ax.yaxis.set_ticklabels([]) \n",
    "ax.set_ylim((-1300, 700))\n",
    "fig = ax.get_figure()\n",
    "fig.suptitle(\"coop_required, 1 sensor\")\n",
    "plt.show()\n",
    "fig.savefig(\"test_results/graphs/potential_field/by_angle/1_sensor/coop_ticks.png\")"
   ]
  },
  {
   "cell_type": "code",
   "execution_count": 117,
   "id": "ee77b13c",
   "metadata": {},
   "outputs": [
    {
     "data": {
      "text/html": [
       "<div>\n",
       "<style scoped>\n",
       "    .dataframe tbody tr th:only-of-type {\n",
       "        vertical-align: middle;\n",
       "    }\n",
       "\n",
       "    .dataframe tbody tr th {\n",
       "        vertical-align: top;\n",
       "    }\n",
       "\n",
       "    .dataframe thead th {\n",
       "        text-align: right;\n",
       "    }\n",
       "</style>\n",
       "<table border=\"1\" class=\"dataframe\">\n",
       "  <thead>\n",
       "    <tr style=\"text-align: right;\">\n",
       "      <th></th>\n",
       "      <th>n_coop</th>\n",
       "      <th>n_sensors</th>\n",
       "      <th>rewards</th>\n",
       "      <th>rewards_mean</th>\n",
       "      <th>rewards_min</th>\n",
       "      <th>rewards_max</th>\n",
       "      <th>rewards_std</th>\n",
       "    </tr>\n",
       "    <tr>\n",
       "      <th>angle</th>\n",
       "      <th></th>\n",
       "      <th></th>\n",
       "      <th></th>\n",
       "      <th></th>\n",
       "      <th></th>\n",
       "      <th></th>\n",
       "      <th></th>\n",
       "    </tr>\n",
       "  </thead>\n",
       "  <tbody>\n",
       "    <tr>\n",
       "      <th>0.1</th>\n",
       "      <td>2</td>\n",
       "      <td>1</td>\n",
       "      <td>248.835911</td>\n",
       "      <td>248.835911</td>\n",
       "      <td>-142.374931</td>\n",
       "      <td>784.505841</td>\n",
       "      <td>143.685941</td>\n",
       "    </tr>\n",
       "    <tr>\n",
       "      <th>0.5</th>\n",
       "      <td>2</td>\n",
       "      <td>1</td>\n",
       "      <td>-630.959426</td>\n",
       "      <td>-630.959426</td>\n",
       "      <td>-673.780408</td>\n",
       "      <td>-541.451336</td>\n",
       "      <td>22.931368</td>\n",
       "    </tr>\n",
       "    <tr>\n",
       "      <th>1</th>\n",
       "      <td>2</td>\n",
       "      <td>1</td>\n",
       "      <td>-1257.250683</td>\n",
       "      <td>-1257.250683</td>\n",
       "      <td>-1292.095365</td>\n",
       "      <td>-1205.175684</td>\n",
       "      <td>21.032406</td>\n",
       "    </tr>\n",
       "    <tr>\n",
       "      <th>na</th>\n",
       "      <td>2</td>\n",
       "      <td>1</td>\n",
       "      <td>14.984861</td>\n",
       "      <td>14.984861</td>\n",
       "      <td>-18.947698</td>\n",
       "      <td>122.285861</td>\n",
       "      <td>31.630822</td>\n",
       "    </tr>\n",
       "    <tr>\n",
       "      <th>rand</th>\n",
       "      <td>2</td>\n",
       "      <td>1</td>\n",
       "      <td>-30.755446</td>\n",
       "      <td>-30.755446</td>\n",
       "      <td>-52.899458</td>\n",
       "      <td>39.543531</td>\n",
       "      <td>19.996405</td>\n",
       "    </tr>\n",
       "  </tbody>\n",
       "</table>\n",
       "</div>"
      ],
      "text/plain": [
       "       n_coop  n_sensors      rewards  rewards_mean  rewards_min  rewards_max  \\\n",
       "angle                                                                           \n",
       "0.1         2          1   248.835911    248.835911  -142.374931   784.505841   \n",
       "0.5         2          1  -630.959426   -630.959426  -673.780408  -541.451336   \n",
       "1           2          1 -1257.250683  -1257.250683 -1292.095365 -1205.175684   \n",
       "na          2          1    14.984861     14.984861   -18.947698   122.285861   \n",
       "rand        2          1   -30.755446    -30.755446   -52.899458    39.543531   \n",
       "\n",
       "       rewards_std  \n",
       "angle               \n",
       "0.1     143.685941  \n",
       "0.5      22.931368  \n",
       "1        21.032406  \n",
       "na       31.630822  \n",
       "rand     19.996405  "
      ]
     },
     "execution_count": 117,
     "metadata": {},
     "output_type": "execute_result"
    }
   ],
   "source": [
    "test_main[(test_main[\"n_sensors\"] == 1) & (test_main[\"n_coop\"] == 2) & (test_main[\"angle\"] != 0)].groupby(\"angle\").mean()"
   ]
  },
  {
   "cell_type": "code",
   "execution_count": 82,
   "id": "d827ac79",
   "metadata": {},
   "outputs": [
    {
     "data": {
      "image/png": "[encoded data removed]",
      "text/plain": [
       "<Figure size 432x288 with 1 Axes>"
      ]
     },
     "metadata": {
      "needs_background": "light"
     },
     "output_type": "display_data"
    }
   ],
   "source": [
    "ax = test_main[(test_main[\"n_sensors\"] == 30) & (test_main[\"n_coop\"] == 1) & (test_main[\"angle\"] != 0)].boxplot(\"rewards\", by=\"angle\", positions=[2, 3, 4, 0, 1])\n",
    "ax.set_title(\"\")\n",
    "ax.set_ylabel(\"rewards\")\n",
    "ax.set_ylim((-1300, 700))\n",
    "fig = ax.get_figure()\n",
    "fig.suptitle(\"no coop, 30 sensors\")\n",
    "plt.gcf().subplots_adjust(left=0.14)\n",
    "plt.show()\n",
    "fig.savefig(\"test_results/graphs/potential_field/by_angle/30_sensor/no_coop.png\")"
   ]
  },
  {
   "cell_type": "code",
   "execution_count": 107,
   "id": "52786aa9",
   "metadata": {},
   "outputs": [
    {
     "data": {
      "image/png": "[encoded data removed]",
      "text/plain": [
       "<Figure size 432x288 with 1 Axes>"
      ]
     },
     "metadata": {
      "needs_background": "light"
     },
     "output_type": "display_data"
    }
   ],
   "source": [
    "ax = test_main[(test_main[\"n_sensors\"] == 30) & (test_main[\"n_coop\"] == 2) & (test_main[\"angle\"] != 0)].boxplot(\"rewards\", by=\"angle\", positions=[2, 3, 4, 0, 1])\n",
    "ax.set_title(\"\")\n",
    "ax.set_ylabel(\"rewards\")\n",
    "plt.gcf().subplots_adjust(left=0.12)\n",
    "# ax.set_ylabel(\"\")\n",
    "# ax.yaxis.set_ticklabels([]) \n",
    "ax.set_ylim((-1300, 700))\n",
    "fig = ax.get_figure()\n",
    "fig.suptitle(\"coop_required, 30 sensors\")\n",
    "plt.show()\n",
    "fig.savefig(\"test_results/graphs/potential_field/by_angle/30_sensor/coop_ticks.png\")"
   ]
  },
  {
   "cell_type": "code",
   "execution_count": 84,
   "id": "9d7b33ff",
   "metadata": {},
   "outputs": [
    {
     "data": {
      "image/png": "[encoded data removed]",
      "text/plain": [
       "<Figure size 432x288 with 1 Axes>"
      ]
     },
     "metadata": {
      "needs_background": "light"
     },
     "output_type": "display_data"
    }
   ],
   "source": [
    "ax = test_main[(test_main[\"n_sensors\"] == 2) & (test_main[\"n_coop\"] == 1) & (test_main[\"angle\"] != 0)].boxplot(\"rewards\", by=\"angle\", positions=[2, 3, 4, 0, 1])\n",
    "ax.set_title(\"\")\n",
    "ax.set_ylabel(\"rewards\")\n",
    "ax.set_ylim((-1300, 700))\n",
    "fig = ax.get_figure()\n",
    "fig.suptitle(\"no coop, 2 sensors\")\n",
    "plt.gcf().subplots_adjust(left=0.14)\n",
    "plt.show()\n",
    "fig.savefig(\"test_results/graphs/potential_field/by_angle/2_sensor/no_coop.png\")"
   ]
  },
  {
   "cell_type": "code",
   "execution_count": 108,
   "id": "00093488",
   "metadata": {},
   "outputs": [
    {
     "data": {
      "image/png": "[encoded data removed]",
      "text/plain": [
       "<Figure size 432x288 with 1 Axes>"
      ]
     },
     "metadata": {
      "needs_background": "light"
     },
     "output_type": "display_data"
    }
   ],
   "source": [
    "ax = test_main[(test_main[\"n_sensors\"] == 2) & (test_main[\"n_coop\"] == 2) & (test_main[\"angle\"] != 0)].boxplot(\"rewards\", by=\"angle\", positions=[2, 3, 4, 0, 1])\n",
    "ax.set_title(\"\")\n",
    "ax.set_ylabel(\"rewards\")\n",
    "plt.gcf().subplots_adjust(left=0.12)\n",
    "# ax.set_ylabel(\"\")\n",
    "# ax.yaxis.set_ticklabels([]) \n",
    "ax.set_ylim((-1300, 700))\n",
    "fig = ax.get_figure()\n",
    "fig.suptitle(\"coop required, 2 sensors\")\n",
    "plt.show()\n",
    "fig.savefig(\"test_results/graphs/potential_field/by_angle/2_sensor/coop_ticks.png\")"
   ]
  },
  {
   "cell_type": "markdown",
   "id": "fcc859d0",
   "metadata": {},
   "source": [
    "## weights"
   ]
  },
  {
   "cell_type": "code",
   "execution_count": 14,
   "id": "f167f2fb",
   "metadata": {},
   "outputs": [],
   "source": [
    "test_weights = []\n",
    "for file in glob.glob(\"test_results/potential_field/weight/*.json\"):\n",
    "    with open(file) as f:\n",
    "        test_weights.append(json.load(f))\n",
    "test_weights = pd.DataFrame([\n",
    "    {\n",
    "        \"n_coop\": config[\"env_config\"][\"n_coop\"], \n",
    "        \"n_sensors\":config[\"env_config\"][\"n_sensors\"],\n",
    "        \"obs_weight\": config[\"potential_field_config\"][\"obs_weight\"],\n",
    "        \"poison_weight\": config[\"potential_field_config\"][\"poison_weight\"],\n",
    "        \"barrier_weight\": config[\"potential_field_config\"][\"barrier_weight\"],\n",
    "        \"food_weight\": config[\"potential_field_config\"][\"food_weight\"],\n",
    "        \"rewards\": config[\"rewards\"]\n",
    "    }\n",
    "    for config in test_weights])\n",
    "test_weights[\"rewards_mean\"] = test_weights.rewards.apply(lambda x: np.mean(x))\n",
    "test_weights[\"rewards_min\"] = test_weights.rewards.apply(lambda x: np.min(x))\n",
    "test_weights[\"rewards_max\"] = test_weights.rewards.apply(lambda x: np.max(x))\n",
    "test_weights[\"rewards_std\"] = test_weights.rewards.apply(lambda x: np.std(x))\n",
    "test_weights = test_weights.explode('rewards')\n",
    "test_weights[\"rewards\"] = test_weights[\"rewards\"].astype(float)"
   ]
  },
  {
   "cell_type": "code",
   "execution_count": 76,
   "id": "88292a4d",
   "metadata": {},
   "outputs": [
    {
     "data": {
      "image/png": "[encoded data removed]",
      "text/plain": [
       "<Figure size 720x360 with 1 Axes>"
      ]
     },
     "metadata": {
      "needs_background": "light"
     },
     "output_type": "display_data"
    }
   ],
   "source": [
    "ax = test_weights[(test_weights[\"n_coop\"] == 1) & (test_weights[\"food_weight\"] == 1)].boxplot(\"rewards\", figsize=(10, 5), by=[\"barrier_weight\",\"poison_weight\",\"obs_weight\",])\n",
    "ax.set_title(\"\")\n",
    "ax.set_ylim((-50, 610))\n",
    "ax.set_ylabel(\"rewards\")\n",
    "ax.set_xlabel(\"[barrier_weight, poison_weight, obstacle_weight]\")\n",
    "fig = ax.get_figure()\n",
    "fig.suptitle(\"no coop, rewards by repulsion weight\")\n",
    "plt.gcf().subplots_adjust(left=0.12)\n",
    "plt.show()\n",
    "fig.savefig(\"test_results/graphs/potential_field/by_repulsion_weight/no_coop.png\")"
   ]
  },
  {
   "cell_type": "code",
   "execution_count": 77,
   "id": "c4d317dc",
   "metadata": {},
   "outputs": [
    {
     "data": {
      "image/png": "[encoded data removed]",
      "text/plain": [
       "<Figure size 432x288 with 1 Axes>"
      ]
     },
     "metadata": {
      "needs_background": "light"
     },
     "output_type": "display_data"
    }
   ],
   "source": [
    "ax = test_weights[(test_weights[\"n_coop\"] == 1)].boxplot(\"rewards\", by=[\"food_weight\",])\n",
    "ax.set_title(\"\")\n",
    "ax.set_ylim((-50, 610))\n",
    "ax.set_ylabel(\"rewards\")\n",
    "fig = ax.get_figure()\n",
    "fig.suptitle(\"no coop, rewards by attraction weight\")\n",
    "plt.gcf().subplots_adjust(left=0.12)\n",
    "plt.show()\n",
    "fig.savefig(\"test_results/graphs/potential_field/by_attraction_weight/no_coop.png\")"
   ]
  },
  {
   "cell_type": "code",
   "execution_count": 78,
   "id": "5a8f1a89",
   "metadata": {
    "scrolled": true
   },
   "outputs": [
    {
     "data": {
      "image/png": "[encoded data removed]",
      "text/plain": [
       "<Figure size 720x360 with 1 Axes>"
      ]
     },
     "metadata": {
      "needs_background": "light"
     },
     "output_type": "display_data"
    }
   ],
   "source": [
    "ax = test_weights[(test_weights[\"n_coop\"] == 2) & (test_weights[\"food_weight\"] == 1)].boxplot(\"rewards\", figsize=(10, 5), by=[\"barrier_weight\",\"poison_weight\",\"obs_weight\",])\n",
    "ax.set_title(\"\")\n",
    "ax.set_ylim((-50, 610))\n",
    "ax.set_ylabel(\"rewards\")\n",
    "fig = ax.get_figure()\n",
    "fig.suptitle(\"coop_required, rewards by weight\")\n",
    "plt.gcf().subplots_adjust(left=0.12)\n",
    "plt.show()\n",
    "fig.savefig(\"test_results/graphs/potential_field/by_repulsion_weight/coop.png\")"
   ]
  },
  {
   "cell_type": "code",
   "execution_count": 109,
   "id": "8b126378",
   "metadata": {},
   "outputs": [
    {
     "data": {
      "image/png": "[encoded data removed]",
      "text/plain": [
       "<Figure size 432x288 with 1 Axes>"
      ]
     },
     "metadata": {
      "needs_background": "light"
     },
     "output_type": "display_data"
    }
   ],
   "source": [
    "ax = test_weights[(test_weights[\"n_coop\"] == 2)].boxplot(\"rewards\", by=[\"food_weight\",])\n",
    "ax.set_title(\"\")\n",
    "ax.set_ylim((-50, 610))\n",
    "ax.set_ylabel(\"rewards\")\n",
    "plt.gcf().subplots_adjust(left=0.12)\n",
    "# ax.set_ylabel(\"\")\n",
    "# ax.yaxis.set_ticklabels([]) \n",
    "fig = ax.get_figure()\n",
    "fig.suptitle(\"coop required, rewards by attraction weight\")\n",
    "plt.show()\n",
    "fig.savefig(\"test_results/graphs/potential_field/by_attraction_weight/coop_ticks.png\")"
   ]
  },
  {
   "cell_type": "markdown",
   "id": "c04e87d1",
   "metadata": {},
   "source": [
    "## random results"
   ]
  },
  {
   "cell_type": "code",
   "execution_count": 19,
   "id": "f8bab0f3",
   "metadata": {},
   "outputs": [],
   "source": [
    "test_random = []\n",
    "for file in glob.glob(\"test_results/potential_field/test_random/*.json\"):\n",
    "    with open(file) as f:\n",
    "        test_random.append(json.load(f))\n",
    "test_random = pd.DataFrame([\n",
    "    {\n",
    "        \"n_coop\": config[\"env_config\"][\"n_coop\"],\n",
    "        \"rewards\": config[\"rewards\"]\n",
    "    }\n",
    "    for config in test_random])\n",
    "test_random = test_random.explode('rewards')\n",
    "test_random[\"rewards\"] = test_random[\"rewards\"].astype(float)"
   ]
  },
  {
   "cell_type": "code",
   "execution_count": 71,
   "id": "9fb2463a",
   "metadata": {},
   "outputs": [
    {
     "data": {
      "image/png": "[encoded data removed]",
      "text/plain": [
       "<Figure size 432x288 with 1 Axes>"
      ]
     },
     "metadata": {
      "needs_background": "light"
     },
     "output_type": "display_data"
    }
   ],
   "source": [
    "ax = test_random.boxplot(\"rewards\", by=\"n_coop\")\n",
    "ax.set_title(\"\")\n",
    "ax.set_ylabel(\"rewards\")\n",
    "fig = ax.get_figure()\n",
    "fig.suptitle(\"reward distribution during random action\")\n",
    "plt.gcf().subplots_adjust(left=0.12)\n",
    "plt.show()\n",
    "fig.savefig(\"test_results/graphs/random_action.png\")"
   ]
  },
  {
   "cell_type": "code",
   "execution_count": 87,
   "id": "43f919c2",
   "metadata": {},
   "outputs": [
    {
     "data": {
      "text/html": [
       "<div>\n",
       "<style scoped>\n",
       "    .dataframe tbody tr th:only-of-type {\n",
       "        vertical-align: middle;\n",
       "    }\n",
       "\n",
       "    .dataframe tbody tr th {\n",
       "        vertical-align: top;\n",
       "    }\n",
       "\n",
       "    .dataframe thead th {\n",
       "        text-align: right;\n",
       "    }\n",
       "</style>\n",
       "<table border=\"1\" class=\"dataframe\">\n",
       "  <thead>\n",
       "    <tr style=\"text-align: right;\">\n",
       "      <th></th>\n",
       "      <th>rewards</th>\n",
       "    </tr>\n",
       "    <tr>\n",
       "      <th>n_coop</th>\n",
       "      <th></th>\n",
       "    </tr>\n",
       "  </thead>\n",
       "  <tbody>\n",
       "    <tr>\n",
       "      <th>1</th>\n",
       "      <td>-382.758478</td>\n",
       "    </tr>\n",
       "    <tr>\n",
       "      <th>2</th>\n",
       "      <td>-640.985771</td>\n",
       "    </tr>\n",
       "  </tbody>\n",
       "</table>\n",
       "</div>"
      ],
      "text/plain": [
       "           rewards\n",
       "n_coop            \n",
       "1      -382.758478\n",
       "2      -640.985771"
      ]
     },
     "execution_count": 87,
     "metadata": {},
     "output_type": "execute_result"
    }
   ],
   "source": [
    "test_random.groupby(\"n_coop\").mean()"
   ]
  },
  {
   "cell_type": "markdown",
   "id": "69b8b2e2",
   "metadata": {},
   "source": [
    "## rl"
   ]
  },
  {
   "cell_type": "code",
   "execution_count": 21,
   "id": "decd746a",
   "metadata": {},
   "outputs": [],
   "source": [
    "rl_results = []\n",
    "rl_results_names = glob.glob(\"test_results/ddpg/*/*/results.txt\")\n",
    "for result_txt in rl_results_names:\n",
    "    rl_results.append(pd.read_csv(result_txt, header=None).values.flatten())"
   ]
  },
  {
   "cell_type": "code",
   "execution_count": 22,
   "id": "a0133685",
   "metadata": {},
   "outputs": [
    {
     "data": {
      "text/plain": [
       "['test_results/ddpg/APEX_DDPG_custom_waterworld1_nocoop_657ce_00000_0_2022-03-31_09-34-14/checkpoint_000420/results.txt',\n",
       " 'test_results/ddpg/APEX_DDPG_custom_waterworld_1_80d21_00000_0_2022-03-28_11-18-45/checkpoint_000870/results.txt',\n",
       " 'test_results/ddpg/APEX_DDPG_custom_waterworld_1_80d21_00000_0_2022-03-28_11-18-45/checkpoint_001580/results.txt']"
      ]
     },
     "execution_count": 22,
     "metadata": {},
     "output_type": "execute_result"
    }
   ],
   "source": [
    "rl_results_names"
   ]
  },
  {
   "cell_type": "code",
   "execution_count": 79,
   "id": "17f66038",
   "metadata": {},
   "outputs": [
    {
     "data": {
      "image/png": "[encoded data removed]",
      "text/plain": [
       "<Figure size 432x288 with 1 Axes>"
      ]
     },
     "metadata": {
      "needs_background": "light"
     },
     "output_type": "display_data"
    }
   ],
   "source": [
    "compare_df = pd.concat([\n",
    "    pd.DataFrame({\"rewards\": test_random[test_random[\"n_coop\"] == 1].rewards.values, \"strategy\":\"random\"}),\n",
    "    pd.DataFrame({\n",
    "        \"rewards\": test_main[(test_main[\"n_sensors\"] == 1) & (test_main[\"n_coop\"] == 1) & (test_main[\"angle\"] == \"na\")].rewards.values, \n",
    "        \"strategy\": \"potential_field\"}),\n",
    "    pd.DataFrame({\"rewards\": rl_results[0], \"strategy\": \"ddpg\"}), \n",
    "])\n",
    "compare_df[\"rewards\"] = compare_df[\"rewards\"].astype(float)\n",
    "ax = compare_df.boxplot(by=\"strategy\", positions=[2, 1, 0])\n",
    "ax.set_title(\"\")\n",
    "ax.set_ylabel(\"rewards\")\n",
    "ax.set_ylim((-700, 310))\n",
    "ax.set_xlabel(\"method\")\n",
    "fig = ax.get_figure()\n",
    "fig.suptitle(\"reward distribution with no coop for different methods\")\n",
    "plt.gcf().subplots_adjust(left=0.12)\n",
    "plt.show()\n",
    "fig.savefig(\"test_results/graphs/ddpg/no_coop.png\")"
   ]
  },
  {
   "cell_type": "code",
   "execution_count": 118,
   "id": "661b733e",
   "metadata": {},
   "outputs": [
    {
     "data": {
      "image/png": "[encoded data removed]",
      "text/plain": [
       "<Figure size 432x288 with 1 Axes>"
      ]
     },
     "metadata": {
      "needs_background": "light"
     },
     "output_type": "display_data"
    }
   ],
   "source": [
    "compare_df = pd.concat([\n",
    "    pd.DataFrame({\"rewards\": test_random[test_random[\"n_coop\"] == 2].rewards.values, \"strategy\":\"random\"}),\n",
    "    pd.DataFrame({\n",
    "        \"rewards\": test_main[(test_main[\"n_sensors\"] == 1) & (test_main[\"n_coop\"] == 2) & (test_main[\"angle\"] == \"na\")].rewards.values, \n",
    "        \"strategy\": \"potential_field\"}),\n",
    "    pd.DataFrame({\"rewards\": rl_results[1], \"strategy\": \"wait\"}), \n",
    "    pd.DataFrame({\"rewards\": rl_results[2], \"strategy\": \"hide\"})\n",
    "])\n",
    "compare_df[\"rewards\"] = compare_df[\"rewards\"].astype(float)\n",
    "ax = compare_df.boxplot(by=\"strategy\", positions=[2, 1, 0, 3])\n",
    "ax.set_title(\"\")\n",
    "ax.set_ylabel(\"rewards\")\n",
    "plt.gcf().subplots_adjust(left=0.12)\n",
    "# ax.set_ylabel(\"\")\n",
    "# ax.yaxis.set_ticklabels([])\n",
    "ax.set_ylim((-700, 310))\n",
    "ax.set_xlabel(\"strategy\")\n",
    "fig = ax.get_figure()\n",
    "fig.suptitle(\"reward distribution with coop for different strategies\")\n",
    "plt.show()\n",
    "fig.savefig(\"test_results/graphs/ddpg/coop_ticks.png\")"
   ]
  },
  {
   "cell_type": "code",
   "execution_count": 120,
   "id": "1bdc8cab",
   "metadata": {},
   "outputs": [
    {
     "data": {
      "text/html": [
       "<div>\n",
       "<style scoped>\n",
       "    .dataframe tbody tr th:only-of-type {\n",
       "        vertical-align: middle;\n",
       "    }\n",
       "\n",
       "    .dataframe tbody tr th {\n",
       "        vertical-align: top;\n",
       "    }\n",
       "\n",
       "    .dataframe thead th {\n",
       "        text-align: right;\n",
       "    }\n",
       "</style>\n",
       "<table border=\"1\" class=\"dataframe\">\n",
       "  <thead>\n",
       "    <tr style=\"text-align: right;\">\n",
       "      <th></th>\n",
       "      <th>rewards</th>\n",
       "    </tr>\n",
       "    <tr>\n",
       "      <th>strategy</th>\n",
       "      <th></th>\n",
       "    </tr>\n",
       "  </thead>\n",
       "  <tbody>\n",
       "    <tr>\n",
       "      <th>hide</th>\n",
       "      <td>10.150234</td>\n",
       "    </tr>\n",
       "    <tr>\n",
       "      <th>potential_field</th>\n",
       "      <td>14.984861</td>\n",
       "    </tr>\n",
       "    <tr>\n",
       "      <th>random</th>\n",
       "      <td>-640.985771</td>\n",
       "    </tr>\n",
       "    <tr>\n",
       "      <th>wait</th>\n",
       "      <td>68.424297</td>\n",
       "    </tr>\n",
       "  </tbody>\n",
       "</table>\n",
       "</div>"
      ],
      "text/plain": [
       "                    rewards\n",
       "strategy                   \n",
       "hide              10.150234\n",
       "potential_field   14.984861\n",
       "random          -640.985771\n",
       "wait              68.424297"
      ]
     },
     "execution_count": 120,
     "metadata": {},
     "output_type": "execute_result"
    }
   ],
   "source": [
    "compare_df.groupby(\"strategy\").mean()"
   ]
  },
  {
   "cell_type": "markdown",
   "id": "00b7841c",
   "metadata": {},
   "source": [
    "# see trajectory"
   ]
  },
  {
   "cell_type": "code",
   "execution_count": 158,
   "id": "487bc290",
   "metadata": {},
   "outputs": [],
   "source": [
    "im = Image.open(\"test_results/potential_field/1_sensor_0.1angle_rot.gif\")"
   ]
  },
  {
   "cell_type": "code",
   "execution_count": 211,
   "id": "5f9af723",
   "metadata": {},
   "outputs": [],
   "source": [
    "index = 1\n",
    "trajectory = np.zeros((750, 750))\n",
    "for frame in ImageSequence.Iterator(im):\n",
    "    trajectory[np.array(frame.convert(\"L\")) == 113] = 1\n",
    "    index += 1\n",
    "    if index > 100:\n",
    "        break"
   ]
  },
  {
   "cell_type": "code",
   "execution_count": 213,
   "id": "56009d76",
   "metadata": {},
   "outputs": [
    {
     "data": {
      "text/plain": [
       "(-0.5, 749.5, 749.5, -0.5)"
      ]
     },
     "execution_count": 213,
     "metadata": {},
     "output_type": "execute_result"
    },
    {
     "data": {
      "image/png": "[encoded data removed]",
      "text/plain": [
       "<Figure size 432x288 with 1 Axes>"
      ]
     },
     "metadata": {
      "needs_background": "light"
     },
     "output_type": "display_data"
    }
   ],
   "source": [
    "plt.imshow((trajectory), cmap=\"ocean_r\")\n",
    "plt.axis('off')"
   ]
  },
  {
   "cell_type": "code",
   "execution_count": null,
   "id": "30c2537c",
   "metadata": {},
   "outputs": [],
   "source": []
  }
 ],
 "metadata": {
  "kernelspec": {
   "display_name": "Python 3",
   "language": "python",
   "name": "python3"
  },
  "language_info": {
   "codemirror_mode": {
    "name": "ipython",
    "version": 3
   },
   "file_extension": ".py",
   "mimetype": "text/x-python",
   "name": "python",
   "nbconvert_exporter": "python",
   "pygments_lexer": "ipython3",
   "version": "3.6.13"
  }
 },
 "nbformat": 4,
 "nbformat_minor": 5
}
