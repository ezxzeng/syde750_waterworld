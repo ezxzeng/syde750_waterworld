{
 "cells": [
  {
   "cell_type": "code",
   "execution_count": 11,
   "id": "ede5cfa3",
   "metadata": {},
   "outputs": [],
   "source": [
    "from pettingzoo.magent import battle_v3\n",
    "from pettingzoo.sisl import waterworld_v3\n",
    "\n",
    "from ray import tune\n",
    "from ray.tune.registry import register_env\n",
    "from ray.rllib.env.wrappers.pettingzoo_env import PettingZooEnv"
   ]
  },
  {
   "cell_type": "code",
   "execution_count": 12,
   "id": "bd8b6a94",
   "metadata": {},
   "outputs": [
    {
     "name": "stderr",
     "output_type": "stream",
     "text": [
      "/home/ray/anaconda3/lib/python3.6/site-packages/pettingzoo/utils/conversions.py:157: UserWarning: The `observation_spaces` dictionary is deprecated. Use the `observation_space` function instead.\n",
      "  warnings.warn(\"The `observation_spaces` dictionary is deprecated. Use the `observation_space` function instead.\")\n",
      "/home/ray/anaconda3/lib/python3.6/site-packages/pettingzoo/utils/conversions.py:165: UserWarning: The `action_spaces` dictionary is deprecated. Use the `action_space` function instead.\n",
      "  warnings.warn(\"The `action_spaces` dictionary is deprecated. Use the `action_space` function instead.\")\n",
      "/home/ray/anaconda3/lib/python3.6/site-packages/pettingzoo/utils/wrappers/base.py:59: UserWarning: The `action_spaces` dictionary is deprecated. Use the `action_space` function instead.\n",
      "  warnings.warn(\"The `action_spaces` dictionary is deprecated. Use the `action_space` function instead.\")\n",
      "/home/ray/anaconda3/lib/python3.6/site-packages/pettingzoo/utils/wrappers/base.py:51: UserWarning: The `observation_spaces` dictionary is deprecated. Use the `observation_space` function instead.\n",
      "  warnings.warn(\"The `observation_spaces` dictionary is deprecated. Use the `observation_space` function instead.\")\n"
     ]
    }
   ],
   "source": [
    "env = battle_v3.env(map_size=45, minimap_mode=False, step_reward=-0.005,\n",
    "dead_penalty=-0.1, attack_penalty=-0.1, attack_opponent_reward=0.2,\n",
    "max_cycles=1000, extra_features=False)"
   ]
  },
  {
   "cell_type": "code",
   "execution_count": 13,
   "id": "667aa546",
   "metadata": {},
   "outputs": [],
   "source": [
    "env = PettingZooEnv(env)"
   ]
  },
  {
   "cell_type": "code",
   "execution_count": 6,
   "id": "51ee364b",
   "metadata": {},
   "outputs": [
    {
     "data": {
      "text/plain": [
       "<pettingzoo.utils.conversions.to_parallel_wrapper at 0x7fc05f6a36a0>"
      ]
     },
     "execution_count": 6,
     "metadata": {},
     "output_type": "execute_result"
    }
   ],
   "source": [
    "env.reset()\n",
    "for agent in env.agent_iter():\n",
    "    observation, reward, done, info = env.last()\n",
    "    action = policy(observation, agent)\n",
    "    env.step(action)"
   ]
  },
  {
   "cell_type": "code",
   "execution_count": 15,
   "id": "59efcefc",
   "metadata": {},
   "outputs": [
    {
     "data": {
      "text/plain": [
       "Discrete(21)"
      ]
     },
     "execution_count": 15,
     "metadata": {},
     "output_type": "execute_result"
    }
   ],
   "source": [
    "env.action_space"
   ]
  },
  {
   "cell_type": "code",
   "execution_count": 9,
   "id": "a9034d7d",
   "metadata": {},
   "outputs": [],
   "source": [
    "env.reset()"
   ]
  },
  {
   "cell_type": "code",
   "execution_count": null,
   "id": "4f4aef83",
   "metadata": {},
   "outputs": [],
   "source": []
  }
 ],
 "metadata": {
  "kernelspec": {
   "display_name": "Python 3",
   "language": "python",
   "name": "python3"
  },
  "language_info": {
   "codemirror_mode": {
    "name": "ipython",
    "version": 3
   },
   "file_extension": ".py",
   "mimetype": "text/x-python",
   "name": "python",
   "nbconvert_exporter": "python",
   "pygments_lexer": "ipython3",
   "version": "3.6.12"
  }
 },
 "nbformat": 4,
 "nbformat_minor": 5
}
